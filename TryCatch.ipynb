{
  "nbformat": 4,
  "nbformat_minor": 0,
  "metadata": {
    "colab": {
      "name": "TryCatch.ipynb",
      "provenance": [],
      "collapsed_sections": []
    },
    "kernelspec": {
      "name": "python3",
      "display_name": "Python 3"
    },
    "language_info": {
      "name": "python"
    }
  },
  "cells": [
    {
      "cell_type": "markdown",
      "metadata": {
        "id": "fDOYWzgfsIDf"
      },
      "source": [
        "**Wissam MZ** <br>\n",
        "\n",
        "Try-Catch Assignment"
      ]
    },
    {
      "cell_type": "code",
      "metadata": {
        "colab": {
          "base_uri": "https://localhost:8080/"
        },
        "id": "_5IN6mawrkPb",
        "outputId": "2078c725-d792-409c-e069-0d82453fcbf7"
      },
      "source": [
        "name = 'Dan'\n",
        "try:\n",
        "    _name=int(name)\n",
        "    print('Flag')\n",
        "except: \n",
        "    _name = -1\n",
        "print('done',_name)"
      ],
      "execution_count": 2,
      "outputs": [
        {
          "output_type": "stream",
          "name": "stdout",
          "text": [
            "done -1\n"
          ]
        }
      ]
    },
    {
      "cell_type": "markdown",
      "metadata": {
        "id": "_jemWF0Ps7Ok"
      },
      "source": [
        "Task 1 :\n",
        "variable casting with try &  except"
      ]
    },
    {
      "cell_type": "code",
      "metadata": {
        "colab": {
          "base_uri": "https://localhost:8080/"
        },
        "id": "OApqW6pdrPrA",
        "outputId": "a406a5c9-d3f5-46fb-d232-fcf05d2d4bd5"
      },
      "source": [
        "num = input('Enter A Number: \\n')\n",
        "try:\n",
        "    ival = int(num)\n",
        "except:\n",
        "    ival = -1\n",
        "if ival > 0:\n",
        "    print('Excellent!! Number ',ival,\"is a Digit\")\n",
        "else:\n",
        "    print('Not A Number')"
      ],
      "execution_count": 4,
      "outputs": [
        {
          "output_type": "stream",
          "name": "stdout",
          "text": [
            "Enter A Number: \n",
            "8\n",
            "Excellent!! Number  8 is a Digit\n"
          ]
        }
      ]
    },
    {
      "cell_type": "markdown",
      "metadata": {
        "id": "Ap5f1qVhsZuE"
      },
      "source": [
        "**assignment 2 :**\n",
        "If temp is digit ! then  (TRY :)  will do the computation"
      ]
    },
    {
      "cell_type": "code",
      "metadata": {
        "colab": {
          "base_uri": "https://localhost:8080/"
        },
        "id": "R8XPzQy8rpj2",
        "outputId": "bd795fd3-3349-4562-dbd7-2a7ed4e22338"
      },
      "source": [
        "temp = 5\n",
        "cel = 0\n",
        "try:\n",
        "    fahr = float(temp)\n",
        "    cel = (fahr - 32.0 )* 5.0 / 9.0\n",
        "except:\n",
        "    cel = -1\n",
        "print(cel)"
      ],
      "execution_count": 5,
      "outputs": [
        {
          "output_type": "stream",
          "name": "stdout",
          "text": [
            "-15.0\n"
          ]
        }
      ]
    },
    {
      "cell_type": "markdown",
      "metadata": {
        "id": "FEZGssLVss-K"
      },
      "source": [
        "If temp is not a digit ! then (Exceot  :) will flag the statement with -1"
      ]
    },
    {
      "cell_type": "code",
      "metadata": {
        "colab": {
          "base_uri": "https://localhost:8080/"
        },
        "id": "2nrrLu_fr2a5",
        "outputId": "269c72d9-1013-48c6-fece-94ba6b4d4d7d"
      },
      "source": [
        "temp = ' Degrees ' \n",
        "cel = 0\n",
        "try:\n",
        "    fahr = float(temp)\n",
        "    cel = (fahr - 32.0 )* 5.0 / 9.0\n",
        "except:\n",
        "    cel = -1\n",
        "    print('Not a digit')\n",
        "print(cel)"
      ],
      "execution_count": 9,
      "outputs": [
        {
          "output_type": "stream",
          "name": "stdout",
          "text": [
            "Not a digit\n",
            "-1\n"
          ]
        }
      ]
    }
  ]
}