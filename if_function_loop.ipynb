{
  "nbformat": 4,
  "nbformat_minor": 0,
  "metadata": {
    "colab": {
      "name": "if_function_loop.ipynb",
      "provenance": [],
      "collapsed_sections": []
    },
    "kernelspec": {
      "name": "python3",
      "display_name": "Python 3"
    },
    "language_info": {
      "name": "python"
    }
  },
  "cells": [
    {
      "cell_type": "markdown",
      "metadata": {
        "id": "fDOYWzgfsIDf"
      },
      "source": [
        "**Wissam MZ** <br>\n",
        "\n",
        "Basic Function +condition+ Iteration Loop <br> Assignment"
      ]
    },
    {
      "cell_type": "code",
      "metadata": {
        "colab": {
          "base_uri": "https://localhost:8080/"
        },
        "id": "CPdClKFCacXS",
        "outputId": "70704b72-6fff-4d28-c0c9-3e8206eb0d07"
      },
      "source": [
        "dir(list)"
      ],
      "execution_count": 10,
      "outputs": [
        {
          "output_type": "execute_result",
          "data": {
            "text/plain": [
              "['__add__',\n",
              " '__class__',\n",
              " '__contains__',\n",
              " '__delattr__',\n",
              " '__delitem__',\n",
              " '__dir__',\n",
              " '__doc__',\n",
              " '__eq__',\n",
              " '__format__',\n",
              " '__ge__',\n",
              " '__getattribute__',\n",
              " '__getitem__',\n",
              " '__gt__',\n",
              " '__hash__',\n",
              " '__iadd__',\n",
              " '__imul__',\n",
              " '__init__',\n",
              " '__init_subclass__',\n",
              " '__iter__',\n",
              " '__le__',\n",
              " '__len__',\n",
              " '__lt__',\n",
              " '__mul__',\n",
              " '__ne__',\n",
              " '__new__',\n",
              " '__reduce__',\n",
              " '__reduce_ex__',\n",
              " '__repr__',\n",
              " '__reversed__',\n",
              " '__rmul__',\n",
              " '__setattr__',\n",
              " '__setitem__',\n",
              " '__sizeof__',\n",
              " '__str__',\n",
              " '__subclasshook__',\n",
              " 'append',\n",
              " 'clear',\n",
              " 'copy',\n",
              " 'count',\n",
              " 'extend',\n",
              " 'index',\n",
              " 'insert',\n",
              " 'pop',\n",
              " 'remove',\n",
              " 'reverse',\n",
              " 'sort']"
            ]
          },
          "metadata": {},
          "execution_count": 10
        }
      ]
    },
    {
      "cell_type": "markdown",
      "metadata": {
        "id": "fVzReLvebnNJ"
      },
      "source": [
        "task 1"
      ]
    },
    {
      "cell_type": "code",
      "metadata": {
        "colab": {
          "base_uri": "https://localhost:8080/"
        },
        "id": "kF08N3JOaNtk",
        "outputId": "99a85d97-bbe1-4a63-d33a-2bd8091398ca"
      },
      "source": [
        "x  = [10,20,30,50,8,9]\n",
        "def something():\n",
        "    for y in x:\n",
        "        print(\"The index :\",str(x.index(y)),'stored value is  :',y)\n",
        "        print('The length :',len(x))\n",
        "        print(range(len(x)))\n",
        "        \n",
        "something()"
      ],
      "execution_count": 19,
      "outputs": [
        {
          "output_type": "stream",
          "name": "stdout",
          "text": [
            "The index : 0 stored value is  : 10\n",
            "The length : 6\n",
            "range(0, 6)\n",
            "The index : 1 stored value is  : 20\n",
            "The length : 6\n",
            "range(0, 6)\n",
            "The index : 2 stored value is  : 30\n",
            "The length : 6\n",
            "range(0, 6)\n",
            "The index : 3 stored value is  : 50\n",
            "The length : 6\n",
            "range(0, 6)\n",
            "The index : 4 stored value is  : 8\n",
            "The length : 6\n",
            "range(0, 6)\n",
            "The index : 5 stored value is  : 9\n",
            "The length : 6\n",
            "range(0, 6)\n"
          ]
        }
      ]
    },
    {
      "cell_type": "code",
      "metadata": {
        "colab": {
          "base_uri": "https://localhost:8080/"
        },
        "id": "_5IN6mawrkPb",
        "outputId": "94d5c9de-a970-467a-8781-ce4dd17f0a61"
      },
      "source": [
        "def n():\n",
        "    count = 0\n",
        "    while(count < 9):\n",
        "        print ('The count',count)\n",
        "        count = count + 1\n",
        "n()"
      ],
      "execution_count": 1,
      "outputs": [
        {
          "output_type": "stream",
          "name": "stdout",
          "text": [
            "The count 0\n",
            "The count 1\n",
            "The count 2\n",
            "The count 3\n",
            "The count 4\n",
            "The count 5\n",
            "The count 6\n",
            "The count 7\n",
            "The count 8\n"
          ]
        }
      ]
    },
    {
      "cell_type": "markdown",
      "metadata": {
        "id": "_jemWF0Ps7Ok"
      },
      "source": [
        "Task 2"
      ]
    },
    {
      "cell_type": "code",
      "metadata": {
        "colab": {
          "base_uri": "https://localhost:8080/"
        },
        "id": "OApqW6pdrPrA",
        "outputId": "c57a92a2-51de-4087-b40a-7d47113b270a"
      },
      "source": [
        "def x():\n",
        "    count = 0\n",
        "    while count < 6:\n",
        "        print('new count',count)\n",
        "        count = count + 1\n",
        "    if count >= 5:\n",
        "        print('count is larger than ',count)\n",
        "    else:\n",
        "        print('count is less than Five ',count)\n",
        " \n",
        "x()"
      ],
      "execution_count": 2,
      "outputs": [
        {
          "output_type": "stream",
          "name": "stdout",
          "text": [
            "new count 0\n",
            "new count 1\n",
            "new count 2\n",
            "new count 3\n",
            "new count 4\n",
            "new count 5\n",
            "count is larger than  6\n"
          ]
        }
      ]
    },
    {
      "cell_type": "markdown",
      "metadata": {
        "id": "FEZGssLVss-K"
      },
      "source": [
        "task 3"
      ]
    },
    {
      "cell_type": "code",
      "metadata": {
        "colab": {
          "base_uri": "https://localhost:8080/"
        },
        "id": "2nrrLu_fr2a5",
        "outputId": "337a2de1-0188-4eff-f966-ad8d4b71f689"
      },
      "source": [
        "text = 'sun and moon'\n",
        "for letter in text:\n",
        "    if letter == '':\n",
        "        break\n",
        "    print('The letter : ', letter)"
      ],
      "execution_count": 3,
      "outputs": [
        {
          "output_type": "stream",
          "name": "stdout",
          "text": [
            "The letter :  s\n",
            "The letter :  u\n",
            "The letter :  n\n",
            "The letter :   \n",
            "The letter :  a\n",
            "The letter :  n\n",
            "The letter :  d\n",
            "The letter :   \n",
            "The letter :  m\n",
            "The letter :  o\n",
            "The letter :  o\n",
            "The letter :  n\n"
          ]
        }
      ]
    },
    {
      "cell_type": "code",
      "metadata": {
        "id": "7BWLha_laLZO"
      },
      "source": [
        ""
      ],
      "execution_count": null,
      "outputs": []
    }
  ]
}