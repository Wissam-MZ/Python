{
  "nbformat": 4,
  "nbformat_minor": 0,
  "metadata": {
    "colab": {
      "name": "String words split.ipynb",
      "provenance": [],
      "collapsed_sections": []
    },
    "kernelspec": {
      "name": "python3",
      "display_name": "Python 3"
    },
    "language_info": {
      "name": "python"
    }
  },
  "cells": [
    {
      "cell_type": "markdown",
      "metadata": {
        "id": "fDOYWzgfsIDf"
      },
      "source": [
        "**Wissam MZ** <br>\n",
        "String words split   Assignment"
      ]
    },
    {
      "cell_type": "markdown",
      "metadata": {
        "id": "fVzReLvebnNJ"
      },
      "source": [
        "task 1"
      ]
    },
    {
      "cell_type": "code",
      "metadata": {
        "colab": {
          "base_uri": "https://localhost:8080/"
        },
        "id": "kF08N3JOaNtk",
        "outputId": "ad8f6dbe-bb6c-4220-8d8f-f543b0bab90b"
      },
      "source": [
        "text = 'With three_words'\n",
        "def txt():\n",
        "    cutter = text.split()\n",
        "    for c in text:\n",
        "        print(cutter)\n",
        "        break\n",
        "txt()"
      ],
      "execution_count": 21,
      "outputs": [
        {
          "output_type": "stream",
          "name": "stdout",
          "text": [
            "['With', 'three_words']\n"
          ]
        }
      ]
    },
    {
      "cell_type": "markdown",
      "metadata": {
        "id": "_jemWF0Ps7Ok"
      },
      "source": [
        "Task 2"
      ]
    },
    {
      "cell_type": "code",
      "metadata": {
        "colab": {
          "base_uri": "https://localhost:8080/"
        },
        "id": "_5IN6mawrkPb",
        "outputId": "7b7d0657-560e-46db-802e-46a5922436fe"
      },
      "source": [
        "line = 'first:second:third:fourth'\n",
        "spl =  line.split(':')\n",
        "print(spl)  \n",
        "\n",
        "words = 'His e-mail is q-lar@freecodecamp.org'\n",
        "pieces = words.split()\n",
        "parts = pieces[3].split('-')\n",
        "n = parts[1]\n",
        "\n",
        "print(n,'\\n',len(n))"
      ],
      "execution_count": 22,
      "outputs": [
        {
          "output_type": "stream",
          "name": "stdout",
          "text": [
            "['first', 'second', 'third', 'fourth']\n",
            "lar@freecodecamp.org \n",
            " 20\n"
          ]
        }
      ]
    },
    {
      "cell_type": "code",
      "metadata": {
        "id": "7BWLha_laLZO"
      },
      "source": [
        ""
      ],
      "execution_count": null,
      "outputs": []
    }
  ]
}