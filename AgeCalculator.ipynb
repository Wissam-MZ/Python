{
  "nbformat": 4,
  "nbformat_minor": 0,
  "metadata": {
    "colab": {
      "name": "AgeCalculator.ipynb",
      "provenance": [],
      "collapsed_sections": []
    },
    "kernelspec": {
      "name": "python3",
      "display_name": "Python 3"
    },
    "language_info": {
      "name": "python"
    }
  },
  "cells": [
    {
      "cell_type": "markdown",
      "metadata": {
        "id": "1hrgpD5-0Oup"
      },
      "source": [
        "Simple Age Calculator by me"
      ]
    },
    {
      "cell_type": "code",
      "metadata": {
        "id": "eKAND9hQztsz"
      },
      "source": [
        "import datetime"
      ],
      "execution_count": 1,
      "outputs": []
    },
    {
      "cell_type": "markdown",
      "metadata": {
        "id": "AQKENvH30Xqx"
      },
      "source": [
        "Here we enter our input data method it takes Integer Values !"
      ]
    },
    {
      "cell_type": "code",
      "metadata": {
        "colab": {
          "base_uri": "https://localhost:8080/"
        },
        "id": "H1bixoFGz0MM",
        "outputId": "ade99d24-f856-4ac9-d7ba-e19277b009a5"
      },
      "source": [
        "birth_year = int(input('Enter year birth: \\n'))\n",
        "birth_month = int(input('Enter month birth: \\n'))\n",
        "birth_day = int(input('Enter  birth day: \\n'))\n"
      ],
      "execution_count": 2,
      "outputs": [
        {
          "name": "stdout",
          "output_type": "stream",
          "text": [
            "Enter year birth: \n",
            "1993\n",
            "Enter month birth: \n",
            "6\n",
            "Enter  birth day: \n",
            "8\n"
          ]
        }
      ]
    },
    {
      "cell_type": "markdown",
      "metadata": {
        "id": "uyegGeSs0j8v"
      },
      "source": [
        "I imported Datetime from python library <br> \n"
      ]
    },
    {
      "cell_type": "code",
      "metadata": {
        "id": "9XNhz_bdz19v"
      },
      "source": [
        "c_year =  datetime.date.today().year\n",
        "c_month = datetime.date.today().month\n",
        "c_day =   datetime.date.today().day"
      ],
      "execution_count": 3,
      "outputs": []
    },
    {
      "cell_type": "markdown",
      "metadata": {
        "id": "PyORrnfz01Jb"
      },
      "source": [
        "We  subtarct the current year with the data entered in Birth year <br>\n",
        "and same thing with month-CurrentMonth &  day -CurrentDay "
      ]
    },
    {
      "cell_type": "code",
      "metadata": {
        "id": "fSEAUnaQz4-B"
      },
      "source": [
        "age_in_year =  c_year - birth_year\n",
        "age_in_month = c_month - birth_month\n",
        "age_in_days =  c_day - birth_day\n"
      ],
      "execution_count": 4,
      "outputs": []
    },
    {
      "cell_type": "markdown",
      "metadata": {
        "id": "m-35a6C31Qmg"
      },
      "source": [
        "#Bingo"
      ]
    },
    {
      "cell_type": "code",
      "metadata": {
        "colab": {
          "base_uri": "https://localhost:8080/"
        },
        "id": "Ajl632mYz6kL",
        "outputId": "e3ab7905-6574-4aec-d62d-3f64e0ccb68b"
      },
      "source": [
        "print('Your exact age is : ' ,age_in_year,'Year ',age_in_month, 'month', age_in_days,'and days')"
      ],
      "execution_count": 5,
      "outputs": [
        {
          "output_type": "stream",
          "name": "stdout",
          "text": [
            "Your exact age is :  28 Year  3 month 11 and days\n"
          ]
        }
      ]
    }
  ]
}